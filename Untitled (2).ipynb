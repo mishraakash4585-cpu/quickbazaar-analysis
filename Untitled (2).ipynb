{
 "cells": [
  {
   "cell_type": "code",
   "execution_count": 6,
   "id": "62c3a377-8c92-4ce0-8b7d-34a6a9d42042",
   "metadata": {},
   "outputs": [
    {
     "name": "stdout",
     "output_type": "stream",
     "text": [
      "Collecting scipy\n",
      "  Downloading scipy-1.15.3-cp310-cp310-manylinux_2_17_x86_64.manylinux2014_x86_64.whl.metadata (61 kB)\n",
      "Requirement already satisfied: numpy<2.5,>=1.23.5 in /srv/conda/envs/notebook/lib/python3.10/site-packages (from scipy) (2.2.2)\n",
      "Downloading scipy-1.15.3-cp310-cp310-manylinux_2_17_x86_64.manylinux2014_x86_64.whl (37.7 MB)\n",
      "\u001b[2K   \u001b[90m━━━━━━━━━━━━━━━━━━━━━━━━━━━━━━━━━━━━━━━━\u001b[0m \u001b[32m37.7/37.7 MB\u001b[0m \u001b[31m5.4 MB/s\u001b[0m eta \u001b[36m0:00:00\u001b[0m00:01\u001b[0m00:01\u001b[0m\n",
      "\u001b[?25hInstalling collected packages: scipy\n",
      "Successfully installed scipy-1.15.3\n"
     ]
    }
   ],
   "source": [
    "!pip install scipy\n"
   ]
  },
  {
   "cell_type": "code",
   "execution_count": 7,
   "id": "e981087a-dd1c-4a0f-b890-841360ead8b0",
   "metadata": {},
   "outputs": [
    {
     "name": "stdout",
     "output_type": "stream",
     "text": [
      "   CustomerRating  TimeInTransit\n",
      "0               3            110\n",
      "1               1             22\n",
      "2               5             36\n",
      "3               5             42\n",
      "4               5            110\n",
      "Index(['CustomerRating', 'TimeInTransit'], dtype='object')\n",
      "Correlation Coefficient: 0.01\n",
      "P-value: 0.7993\n",
      "Fail to reject H₀ → No significant correlation.\n"
     ]
    }
   ],
   "source": [
    "import pandas as pd\n",
    "from scipy.stats import pearsonr\n",
    "\n",
    "# CSV file load\n",
    "df = pd.read_csv(\"quickbazaar_orders - Sheet2.csv\")\n",
    "\n",
    "print(df.head())       # pehle 5 rows check karo\n",
    "print(df.columns)      # column names dekh lo\n",
    "\n",
    "# Example correlation (column names exactly check kar lena)\n",
    "corr, p_value = pearsonr(df['TimeInTransit'], df['CustomerRating'])\n",
    "\n",
    "print(f\"Correlation Coefficient: {corr:.2f}\")\n",
    "print(f\"P-value: {p_value:.4f}\")\n",
    "\n",
    "if p_value < 0.05:\n",
    "    print(\"Reject H₀ → Significant correlation exists.\")\n",
    "else:\n",
    "    print(\"Fail to reject H₀ → No significant correlation.\")\n"
   ]
  },
  {
   "cell_type": "code",
   "execution_count": null,
   "id": "61b68956-89de-4d77-932f-328313dd97fa",
   "metadata": {},
   "outputs": [],
   "source": []
  }
 ],
 "metadata": {
  "kernelspec": {
   "display_name": "Python 3 (ipykernel)",
   "language": "python",
   "name": "python3"
  },
  "language_info": {
   "codemirror_mode": {
    "name": "ipython",
    "version": 3
   },
   "file_extension": ".py",
   "mimetype": "text/x-python",
   "name": "python",
   "nbconvert_exporter": "python",
   "pygments_lexer": "ipython3",
   "version": "3.10.14"
  }
 },
 "nbformat": 4,
 "nbformat_minor": 5
}
